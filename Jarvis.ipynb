{
 "cells": [
  {
   "cell_type": "markdown",
   "id": "forbidden-cliff",
   "metadata": {},
   "source": [
    "# JARVIS A I TECNOLOGY "
   ]
  },
  {
   "cell_type": "markdown",
   "id": "external-seeking",
   "metadata": {},
   "source": [
    "## IMPORTING LIBRARIES"
   ]
  },
  {
   "cell_type": "code",
   "execution_count": 23,
   "id": "western-revision",
   "metadata": {},
   "outputs": [],
   "source": [
    "import pyttsx3\n",
    "import datetime\n",
    "import speech_recognition as sr\n",
    "import wikipedia\n",
    "import webbrowser"
   ]
  },
  {
   "cell_type": "markdown",
   "id": "respiratory-suite",
   "metadata": {},
   "source": [
    "## CHECKING AND SETTING THE VOICES"
   ]
  },
  {
   "cell_type": "code",
   "execution_count": 24,
   "id": "sticky-essence",
   "metadata": {},
   "outputs": [],
   "source": [
    "engine = pyttsx3.init('espeak')\n",
    "voices = engine.getProperty('voices')"
   ]
  },
  {
   "cell_type": "markdown",
   "id": "turkish-wealth",
   "metadata": {},
   "source": [
    "## SETTING THE AUDIO BY DEFINING THE FUNTION"
   ]
  },
  {
   "cell_type": "code",
   "execution_count": 25,
   "id": "dated-holly",
   "metadata": {},
   "outputs": [],
   "source": [
    "def speak(audio):\n",
    "    engine.say(audio)\n",
    "    engine.runAndWait()"
   ]
  },
  {
   "cell_type": "markdown",
   "id": "comprehensive-equality",
   "metadata": {},
   "source": [
    "## IN THIS FUNTION WILL WISH YOU "
   ]
  },
  {
   "cell_type": "code",
   "execution_count": 26,
   "id": "exact-parker",
   "metadata": {},
   "outputs": [],
   "source": [
    "def wishme():\n",
    "    hour = int(datetime.datetime.now().hour)\n",
    "    if hour >=0 and hour <=12:\n",
    "        helo = speak(\"Good Morning\")\n",
    "    elif hour >=13 and hour <=18:\n",
    "        helo = speak(\"Good Afternoon\")\n",
    "    else:\n",
    "        helo = speak(\"Have a Good night\")\n",
    "    speak(f\"{helo}I am Jarvis. How you doing\")"
   ]
  },
  {
   "cell_type": "markdown",
   "id": "cloudy-worcester",
   "metadata": {},
   "source": [
    "## IN THIS FUNCTION IT LISTEN TO THE PERSON"
   ]
  },
  {
   "cell_type": "code",
   "execution_count": 27,
   "id": "confident-spell",
   "metadata": {},
   "outputs": [],
   "source": [
    "def takecommand():\n",
    "    rec = sr.Recognizer()\n",
    "    with sr.Microphone() as source:\n",
    "        print(\"I am Listening............\")\n",
    "        rec.pause_threshold = 1\n",
    "        audio = rec.listen(source)\n",
    "        \n",
    "    try:\n",
    "        print(\"I Recognized\")\n",
    "        query = r.recognize_google(audio, language = 'en-in')\n",
    "        print(f\" You Said: {query}\")\n",
    "        speak(query)\n",
    "        \n",
    "    except Exception as e:\n",
    "        return \"none\"\n",
    "    \n",
    "    return query"
   ]
  },
  {
   "cell_type": "markdown",
   "id": "cubic-beaver",
   "metadata": {},
   "source": [
    "## THIS IS THE MAIN FUNTION CONTAINS THE LOGIC"
   ]
  },
  {
   "cell_type": "code",
   "execution_count": null,
   "id": "parallel-aging",
   "metadata": {},
   "outputs": [
    {
     "name": "stdout",
     "output_type": "stream",
     "text": [
      "I am Listening............\n"
     ]
    }
   ],
   "source": [
    "if __name__ == \"__main__\":\n",
    "    wishme()\n",
    "    \n",
    "    while True:\n",
    "        string = takecommand().lower()\n",
    "        \n",
    "        if 'wikipedia' in string:\n",
    "            speak(\"Searching Wikipedia\")\n",
    "            string = string.replace(\"wikipedia\",\"\")\n",
    "            results = wikipedia.summary(string, sentences=2)\n",
    "            speak(\"According to wikipedia\")\n",
    "            print(results)        \n",
    "            speak(results)\n",
    "        \n",
    "        elif 'open youtube' in string:\n",
    "            webbrowser.open(\"youtube.com\")\n",
    "\n",
    "        elif 'open facebook' in string:\n",
    "            webbrowser.open(\"facebook.com\")\n",
    "        \n",
    "        elif'open google' in string:\n",
    "            webbrowser.open(\"google.com\")\n",
    "\n",
    "        elif'hey jarvis' in string:\n",
    "            speak(\"How you doing man\")\n",
    "        \n",
    "        elif 'my name' in string:\n",
    "            speak(\"your name is John cena\")\n",
    "\n",
    "        elif 'exit'in string:\n",
    "            speak(\"Have a nice Day\")\n",
    "            exit()"
   ]
  },
  {
   "cell_type": "code",
   "execution_count": null,
   "id": "ranking-evanescence",
   "metadata": {},
   "outputs": [],
   "source": []
  },
  {
   "cell_type": "code",
   "execution_count": null,
   "id": "agricultural-venue",
   "metadata": {},
   "outputs": [],
   "source": []
  }
 ],
 "metadata": {
  "kernelspec": {
   "display_name": "Python 3",
   "language": "python",
   "name": "python3"
  },
  "language_info": {
   "codemirror_mode": {
    "name": "ipython",
    "version": 3
   },
   "file_extension": ".py",
   "mimetype": "text/x-python",
   "name": "python",
   "nbconvert_exporter": "python",
   "pygments_lexer": "ipython3",
   "version": "3.8.5"
  }
 },
 "nbformat": 4,
 "nbformat_minor": 5
}
